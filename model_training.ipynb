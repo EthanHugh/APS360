{
  "nbformat": 4,
  "nbformat_minor": 0,
  "metadata": {
    "colab": {
      "provenance": [],
      "authorship_tag": "ABX9TyNqyMy2niDHLz0J8TaBqTgT",
      "include_colab_link": true
    },
    "kernelspec": {
      "name": "python3",
      "display_name": "Python 3"
    },
    "language_info": {
      "name": "python"
    }
  },
  "cells": [
    {
      "cell_type": "markdown",
      "metadata": {
        "id": "view-in-github",
        "colab_type": "text"
      },
      "source": [
        "<a href=\"https://colab.research.google.com/github/EthanHugh/APS360/blob/main/model_training.ipynb\" target=\"_parent\"><img src=\"https://colab.research.google.com/assets/colab-badge.svg\" alt=\"Open In Colab\"/></a>"
      ]
    },
    {
      "cell_type": "code",
      "source": [
        "import numpy as np\n",
        "import time\n",
        "import torch\n",
        "import torch.nn as nn\n",
        "import torch.nn.functional as F\n",
        "import torch.optim as optim\n",
        "import torchvision\n",
        "from torch.utils.data.sampler import SubsetRandomSampler \n",
        "import torchvision.transforms as transforms\n",
        "import matplotlib.pyplot as plt"
      ],
      "metadata": {
        "id": "3UIYYhGuP1cm"
      },
      "execution_count": null,
      "outputs": []
    },
    {
      "cell_type": "code",
      "source": [
        "from PIL import Image\n",
        "import os"
      ],
      "metadata": {
        "id": "pnmEFXZbWWfA"
      },
      "execution_count": null,
      "outputs": []
    },
    {
      "cell_type": "code",
      "source": [
        "img_path = \"Desktop/APS360/project/bigset224\"\n",
        "classes = ['Arcade', 'Board Games', 'Educational', 'Fighting', 'Puzzle', 'Racing', 'RPG', 'Shooter', 'Sports', 'Strategy']"
      ],
      "metadata": {
        "id": "iLlOZRp7ob6g"
      },
      "execution_count": null,
      "outputs": []
    },
    {
      "cell_type": "code",
      "source": [
        "img_path = \"Desktop/APS360/project/bigset224\"\n",
        "classes = ['Arcade', 'Board Games', 'Educational', 'Fighting', 'Puzzle', 'Racing', 'RPG', 'Shooter', 'Sports', 'Strategy']\n",
        "transform = transforms.ColorJitter(brightness=0.5,contrast=0.5,saturation=0.5,hue=0.1)\n",
        "for i in classes:\n",
        "    path = img_path + \"/\" + i\n",
        "    imgs = [name for name in os.listdir(path)]\n",
        "    for index, img_name in enumerate(imgs):\n",
        "        img = Image.open(path + \"/{}\".format(img_name))\n",
        "        img1 = transform(img)\n",
        "        img1.save(path + \"/{}.jpg\".format(index))\n",
        "\n",
        "# img = Image.open(img_path + \"/Arcade/3 on 3 NHL Arcade.jpg\")\n",
        "# transform = transforms.ColorJitter(brightness=0.5,contrast=0.5,saturation=0.5,hue=0.2)\n",
        "# img = transform(img)"
      ],
      "metadata": {
        "id": "u4SqF1pIVki2"
      },
      "execution_count": null,
      "outputs": []
    },
    {
      "cell_type": "code",
      "source": [
        "img_path = \"Desktop/APS360/project/bigset224\"\n",
        "classes = ['Arcade', 'Board Games', 'Educational', 'Fighting', 'Puzzle', 'Racing', 'RPG', 'Shooter', 'Sports', 'Strategy']\n",
        "transform = transforms.RandomRotation((180,180))\n",
        "for i in classes:\n",
        "    path = img_path + \"/\" + i\n",
        "    imgs = [name for name in os.listdir(path)]\n",
        "    for index, img_name in enumerate(imgs):\n",
        "        img = Image.open(path + \"/{}\".format(img_name))\n",
        "        img1 = transform(img)\n",
        "        img1.save(path + \"/{}.jpg\".format(index + 1000))"
      ],
      "metadata": {
        "id": "HXG_m0sAjV4e"
      },
      "execution_count": null,
      "outputs": []
    },
    {
      "cell_type": "code",
      "source": [
        "for i in classes:\n",
        "    print(len([name for name in os.listdir(img_path + \"/\" + i)]))"
      ],
      "metadata": {
        "id": "RLzbFRhTW-rj"
      },
      "execution_count": null,
      "outputs": []
    },
    {
      "cell_type": "code",
      "source": [
        "!pip install split-folders\n",
        "import splitfolders"
      ],
      "metadata": {
        "colab": {
          "base_uri": "https://localhost:8080/"
        },
        "id": "xkvEdJrFlabE",
        "outputId": "1f8b47a1-dae8-4bd5-a513-5a9d5126167b"
      },
      "execution_count": null,
      "outputs": [
        {
          "output_type": "stream",
          "name": "stdout",
          "text": [
            "Requirement already satisfied: split-folders in c:\\pythorz\\python 39\\lib\\site-packages (0.5.1)\n"
          ]
        }
      ]
    },
    {
      "cell_type": "code",
      "source": [
        "splitfolders.ratio(img_path, img_path + \"/datasets\" , seed=42, ratio=(0.7, 0.15, 0.15))"
      ],
      "metadata": {
        "id": "XSbWlwgzlgMz"
      },
      "execution_count": null,
      "outputs": []
    },
    {
      "cell_type": "code",
      "source": [
        "data_dir = \"Desktop/APS360/project/bigset224/datasets/\"\n",
        "transform = transforms.ToTensor()\n",
        "\n",
        "train_data = torchvision.datasets.ImageFolder(data_dir + 'train', transform=transform)\n",
        "val_data = torchvision.datasets.ImageFolder(data_dir + 'val', transform=transform)\n",
        "test_data = torchvision.datasets.ImageFolder(data_dir + 'test', transform=transform)"
      ],
      "metadata": {
        "id": "Fd2jKt5En-vc"
      },
      "execution_count": null,
      "outputs": []
    },
    {
      "cell_type": "code",
      "source": [
        "print(len(train_data))"
      ],
      "metadata": {
        "colab": {
          "base_uri": "https://localhost:8080/"
        },
        "id": "prXadZcxrU_i",
        "outputId": "35083e83-97d6-48c9-d7f4-190ef506e87a"
      },
      "execution_count": null,
      "outputs": [
        {
          "output_type": "stream",
          "name": "stdout",
          "text": [
            "27994\n"
          ]
        }
      ]
    },
    {
      "cell_type": "code",
      "source": [
        "alex_train_path = \"Desktop/APS360/project/alexnet_features/train\"\n",
        "alex_val_path = \"Desktop/APS360/project/alexnet_features/val\"\n",
        "alex_test_path = \"Desktop/APS360/project/alexnet_features/test\""
      ],
      "metadata": {
        "id": "eZf1j-n5n4IH"
      },
      "execution_count": null,
      "outputs": []
    },
    {
      "cell_type": "code",
      "source": [
        "train_loader = torch.utils.data.DataLoader(train_data, batch_size=1, num_workers=1)\n",
        "val_loader = torch.utils.data.DataLoader(val_data, batch_size=1, num_workers=1)\n",
        "test_loader = torch.utils.data.DataLoader(test_data, batch_size=1, num_workers=1)"
      ],
      "metadata": {
        "id": "hcQr3NWhn-QA"
      },
      "execution_count": null,
      "outputs": []
    },
    {
      "cell_type": "code",
      "source": [
        "import torchvision.models\n",
        "alexnet = torchvision.models.alexnet(pretrained=True)"
      ],
      "metadata": {
        "colab": {
          "base_uri": "https://localhost:8080/"
        },
        "id": "P5WY5mvCrlTZ",
        "outputId": "8c221f30-f82a-46d1-c647-6b2641f1ca37"
      },
      "execution_count": null,
      "outputs": [
        {
          "output_type": "stream",
          "name": "stderr",
          "text": [
            "c:\\pythorz\\python 39\\lib\\site-packages\\torchvision\\models\\_utils.py:208: UserWarning: The parameter 'pretrained' is deprecated since 0.13 and may be removed in the future, please use 'weights' instead.\n",
            "  warnings.warn(\n",
            "c:\\pythorz\\python 39\\lib\\site-packages\\torchvision\\models\\_utils.py:223: UserWarning: Arguments other than a weight enum or `None` for 'weights' are deprecated since 0.13 and may be removed in the future. The current behavior is equivalent to passing `weights=AlexNet_Weights.IMAGENET1K_V1`. You can also use `weights=AlexNet_Weights.DEFAULT` to get the most up-to-date weights.\n",
            "  warnings.warn(msg)\n"
          ]
        }
      ]
    },
    {
      "cell_type": "code",
      "source": [
        "import matplotlib.pyplot as plt"
      ],
      "metadata": {
        "id": "5QctBaOatBFH"
      },
      "execution_count": null,
      "outputs": []
    },
    {
      "cell_type": "code",
      "source": [
        "for i, (img, label) in enumerate(train_loader):\n",
        "  features = alexnet.features(img)\n",
        "  tensor = torch.from_numpy(features.detach().numpy())\n",
        "  torch.save(tensor.squeeze(0), \"{0}/{1}/{2}.tensor\".format(alex_train_path, classes[label], i))\n",
        "  if i % 100 == 0:\n",
        "      print(i)\n",
        "\n",
        "print(\"done with training set\")\n",
        "\n",
        "for i, (img, label) in enumerate(val_loader):\n",
        "  features = alexnet.features(img)\n",
        "  tensor = torch.from_numpy(features.detach().numpy())\n",
        "  torch.save(tensor.squeeze(0), \"{0}/{1}/{2}.tensor\".format(alex_val_path, classes[label], i))\n",
        "  if i % 100 == 0:\n",
        "      print(i)\n",
        "\n",
        "print(\"done with validation set\")\n",
        "\n",
        "for i, (img, label) in enumerate(test_loader):\n",
        "  features = alexnet.features(img)\n",
        "  tensor = torch.from_numpy(features.detach().numpy())\n",
        "  torch.save(tensor.squeeze(0), \"{0}/{1}/{2}.tensor\".format(alex_test_path, classes[label], i))\n",
        "  if i % 100 == 0:\n",
        "      print(i)\n",
        "\n",
        "print(\"done with testing set\")"
      ],
      "metadata": {
        "id": "zImf3MrurZcP"
      },
      "execution_count": null,
      "outputs": []
    },
    {
      "cell_type": "code",
      "execution_count": null,
      "metadata": {
        "id": "qVQPnyXHPx7v"
      },
      "outputs": [],
      "source": [
        "class CNN(nn.Module):\n",
        "  def __init__(self):\n",
        "    super(CNN, self).__init__()\n",
        "    self.name = \"bigCNN\"\n",
        "    self.conv1 = nn.Conv2d(3, 96, 11, stride=4)\n",
        "    #dims = 96*54*54 -> pool3 #dims is 96*26*26\n",
        "    self.conv2 = nn.Conv2d(96, 256, 5, padding=2)\n",
        "    #dims = 256*26*26 -> pool3 #dims is 256*12*12\n",
        "    self.conv3 = nn.Conv2d(256, 384, 3, padding=1)\n",
        "    #dims = 384*12*12\n",
        "    self.conv4 = nn.Conv2d(384, 384, 3, padding=1)\n",
        "    #dims = 384*12*12\n",
        "    self.conv5 = nn.Conv2d(384, 256, 3, padding=1)\n",
        "    #dims = 256*12*12 -> pool2 #dims is 256*6*6\n",
        "    self.fc1 = nn.Linear(256 * 6 * 6, 4096)\n",
        "    self.fc2 = nn.Linear(4096, 4096)\n",
        "    self.fc3 = nn.Linear(4096, 10)\n",
        "    \n",
        "    self.pool2 = nn.MaxPool2d(2, 2)\n",
        "    self.pool3 = nn.MaxPool2d(3, 2)\n",
        "\n",
        "    self.dropout = nn.Dropout(0.5)\n",
        "\n",
        "  def forward(self, x):\n",
        "    x = self.pool3(F.relu(self.conv1(x)))\n",
        "    x = self.pool3(F.relu(self.conv2(x)))\n",
        "    x = F.relu(self.conv3(x))\n",
        "    x = F.relu(self.conv4(x))\n",
        "    x = self.pool2(F.relu(self.conv5(x)))\n",
        "    x = x.view(-1, 256 * 6 * 6)\n",
        "    x = F.relu(self.fc1(x))\n",
        "    x = self.dropout(x)\n",
        "    x = F.relu(self.fc2(x))\n",
        "    x = self.dropout(x)\n",
        "    return self.fc3(x)"
      ]
    },
    {
      "cell_type": "code",
      "source": [
        "class ANNsmall(nn.Module):\n",
        "    def __init__(self):\n",
        "        super(ANNsmall, self).__init__()\n",
        "        self.name = \"ANNdropout\"\n",
        "        self.fc1 = nn.Linear(256 * 6 * 6, 64)\n",
        "        self.fc2 = nn.Linear(64, 10)\n",
        "\n",
        "        self.dropout = nn.Dropout(0.5)\n",
        "    \n",
        "    def forward(self, x):\n",
        "        x = x.view(-1, 256 * 6 * 6)        \n",
        "        x = F.relu(self.fc1(x))\n",
        "        x = self.dropout(x)\n",
        "        return self.fc2(x)"
      ],
      "metadata": {
        "id": "xSxiEu3FREUG"
      },
      "execution_count": null,
      "outputs": []
    },
    {
      "cell_type": "code",
      "source": [
        "print(torch.cuda.is_available())"
      ],
      "metadata": {
        "colab": {
          "base_uri": "https://localhost:8080/"
        },
        "id": "jjawShrpP0eg",
        "outputId": "3a0a5b3d-bc24-4506-89df-3c8e6203559e"
      },
      "execution_count": null,
      "outputs": [
        {
          "output_type": "stream",
          "name": "stdout",
          "text": [
            "True\n"
          ]
        }
      ]
    },
    {
      "cell_type": "code",
      "source": [
        "from google.colab import drive\n",
        "drive.mount('/content/gdrive')"
      ],
      "metadata": {
        "colab": {
          "base_uri": "https://localhost:8080/",
          "height": 183
        },
        "id": "rNVRvHhd6l5h",
        "outputId": "d9f9f0c6-5aba-4594-aa6b-634b0c65fa9a"
      },
      "execution_count": null,
      "outputs": [
        {
          "output_type": "error",
          "ename": "ModuleNotFoundError",
          "evalue": "ignored",
          "traceback": [
            "\u001b[1;31m---------------------------------------------------------------------------\u001b[0m",
            "\u001b[1;31mModuleNotFoundError\u001b[0m                       Traceback (most recent call last)",
            "Cell \u001b[1;32mIn[3], line 1\u001b[0m\n\u001b[1;32m----> 1\u001b[0m \u001b[38;5;28;01mfrom\u001b[39;00m \u001b[38;5;21;01mgoogle\u001b[39;00m\u001b[38;5;21;01m.\u001b[39;00m\u001b[38;5;21;01mcolab\u001b[39;00m \u001b[38;5;28;01mimport\u001b[39;00m drive\n\u001b[0;32m      2\u001b[0m drive\u001b[38;5;241m.\u001b[39mmount(\u001b[38;5;124m'\u001b[39m\u001b[38;5;124m/content/gdrive\u001b[39m\u001b[38;5;124m'\u001b[39m)\n",
            "\u001b[1;31mModuleNotFoundError\u001b[0m: No module named 'google'"
          ]
        }
      ]
    },
    {
      "cell_type": "code",
      "source": [
        "transform = transforms.ToTensor()"
      ],
      "metadata": {
        "id": "buAQUnz85q2v"
      },
      "execution_count": null,
      "outputs": []
    },
    {
      "cell_type": "code",
      "source": [
        "# data_sets = '/content/gdrive/MyDrive/project/rawg224/datasets/'\n",
        "# data_sets = \"Desktop/APS360/project/bigset224/datasets/\"\n",
        "\n",
        "# loading data\n",
        "# train_data = torchvision.datasets.ImageFolder(data_sets + 'train', transform=transform)\n",
        "# val_data = torchvision.datasets.ImageFolder(data_sets + 'val', transform=transform)\n",
        "# test_data = torchvision.datasets.ImageFolder(data_sets + 'test', transform=transform)\n",
        "\n",
        "\n",
        "data_sets = \"Desktop/APS360/project/alexnet_features/\"\n",
        "\n",
        "train_data = torchvision.datasets.DatasetFolder(data_sets + \"train\", loader=torch.load, extensions=(\".tensor\"))\n",
        "val_data = torchvision.datasets.DatasetFolder(data_sets  + \"val\", loader=torch.load, extensions=(\".tensor\"))\n",
        "test_data = torchvision.datasets.DatasetFolder(data_sets + \"test\", loader=torch.load, extensions=(\".tensor\"))"
      ],
      "metadata": {
        "id": "3mSmoG776VOr"
      },
      "execution_count": null,
      "outputs": []
    },
    {
      "cell_type": "code",
      "source": [
        "num_total = len(train_data) + len(val_data) + len(test_data)\n",
        "\n",
        "print(f'Training images: {len(train_data)} ({(len(train_data)/num_total)*100:.2f}%)')\n",
        "print(f'Validation images: {len(val_data)} ({(len(val_data)/num_total)*100:.2f}%)')\n",
        "print(f'Test images: {len(test_data)} ({(len(test_data)/num_total)*100:.2f}%)')"
      ],
      "metadata": {
        "colab": {
          "base_uri": "https://localhost:8080/"
        },
        "id": "KZUJP7vg6yQ-",
        "outputId": "1019ea17-511a-4da6-a07f-8a1ec2a7ba24"
      },
      "execution_count": null,
      "outputs": [
        {
          "output_type": "stream",
          "name": "stdout",
          "text": [
            "Training images: 27994 (70.00%)\n",
            "Validation images: 5995 (14.99%)\n",
            "Test images: 6005 (15.01%)\n"
          ]
        }
      ]
    },
    {
      "cell_type": "code",
      "source": [
        "def get_model_name(name, bs, lr, epoch):\n",
        "  path = \"{0}_bs{1}_lr{2}_epoch{3}\".format(name, bs, lr, epoch)\n",
        "  return path"
      ],
      "metadata": {
        "id": "OyzlZLbh69PV"
      },
      "execution_count": null,
      "outputs": []
    },
    {
      "cell_type": "code",
      "source": [
        "use_cuda = True\n",
        "\n",
        "def get_accuracy(model, bs=64, train=False):\n",
        "  data = train_data if train else val_data\n",
        "  correct = 0\n",
        "  total = 0\n",
        "  \n",
        "  for imgs, labels in torch.utils.data.DataLoader(data, batch_size=bs):\n",
        "    #GPU time\n",
        "    if use_cuda and torch.cuda.is_available():\n",
        "      imgs = imgs.cuda()\n",
        "      labels = labels.cuda()\n",
        "    \n",
        "    output = model(imgs)\n",
        "    pred = output.max(1, keepdim=True)[1]\n",
        "    correct += pred.eq(labels.view_as(pred)).sum().item()\n",
        "    total += imgs.shape[0]\n",
        "  \n",
        "  return correct / total"
      ],
      "metadata": {
        "id": "LZKGgnFO7Hiw"
      },
      "execution_count": null,
      "outputs": []
    },
    {
      "cell_type": "code",
      "source": [
        "def train(model, data, bs=64, e=20, lr=0.001):\n",
        "    train_loader = torch.utils.data.DataLoader(data, batch_size=bs, shuffle=True)\n",
        "    criterion = nn.CrossEntropyLoss()\n",
        "    optimizer = optim.SGD(model.parameters(), lr=lr, momentum=0.9)\n",
        "\n",
        "    iters, losses, train_acc, val_acc = [], [], [], []\n",
        "\n",
        "    # training\n",
        "    n = 0 # the number of iterations\n",
        "    print(\"Starting Training...\")\n",
        "    for epoch in range(e):\n",
        "        for imgs, labels in iter(train_loader):\n",
        "            #GPU stuff\n",
        "            if use_cuda and torch.cuda.is_available():\n",
        "                imgs = imgs.cuda()\n",
        "                labels = labels.cuda()\n",
        "\n",
        "            out = model(imgs)             # forward pass\n",
        "\n",
        "            loss = criterion(out, labels) # compute the total loss\n",
        "            loss.backward()               # backward pass (compute parameter updates)\n",
        "            optimizer.step()              # make the updates for each parameter\n",
        "            optimizer.zero_grad()         # a clean up step for PyTorch\n",
        "\n",
        "        # save the current training information\n",
        "        iters.append(n)\n",
        "        losses.append(float(loss)/bs)             # compute *average* loss\n",
        "        train_acc.append(get_accuracy(model, train=True, bs=bs)) # compute training accuracy\n",
        "        val_acc.append(get_accuracy(model, train=False, bs=bs))  # compute validation accuracy\n",
        "\n",
        "        print(\"epoch: {0}, train accuracy: {1:.5f}, loss: {2:.5f}, val accuracy: {3:.5f}\".format(epoch + 1, train_acc[epoch], losses[epoch], val_acc[epoch]))\n",
        "\n",
        "        torch.save(model.state_dict(), \"Desktop/APS360/project/alexnet_features/model/{0}\".format(get_model_name(model.name, bs, lr, epoch)))\n",
        "        n += 1\n",
        "\n",
        "    # plotting\n",
        "    plt.title(\"Loss Curve\")\n",
        "    plt.plot(iters, losses, label=\"Train\")\n",
        "    plt.xlabel(\"Iterations\")\n",
        "    plt.ylabel(\"Loss\")\n",
        "    plt.show()\n",
        "\n",
        "    plt.title(\"Training Curve\")\n",
        "    plt.plot(iters, train_acc, label=\"Train\")\n",
        "    plt.plot(iters, val_acc, label=\"Validation\")\n",
        "    plt.xlabel(\"Iterations\")\n",
        "    plt.ylabel(\"Accuracy\")\n",
        "    plt.legend(loc='best')\n",
        "    plt.show()\n",
        "\n",
        "    print(\"Final Training Accuracy: {}\".format(train_acc[-1]))\n",
        "    print(\"Final Validation Accuracy: {}\".format(val_acc[-1]))"
      ],
      "metadata": {
        "id": "xvhxbHEu7jUb"
      },
      "execution_count": null,
      "outputs": []
    },
    {
      "cell_type": "code",
      "source": [
        "# base model\n",
        "model1 = ANNsmall()\n",
        "\n",
        "if use_cuda and torch.cuda.is_available():\n",
        "    model1.cuda()\n",
        "    print(\"GPU time\")\n",
        "else:\n",
        "    print(\"no GPU :(\")\n",
        "\n",
        "train(model1, e=150, data=train_data, bs=64, lr=0.005)"
      ],
      "metadata": {
        "colab": {
          "base_uri": "https://localhost:8080/",
          "height": 356
        },
        "id": "oci4Khew-T3W",
        "outputId": "b8c3125f-4d31-49d0-bdb5-a2f7ba7f66cd"
      },
      "execution_count": null,
      "outputs": [
        {
          "output_type": "stream",
          "name": "stdout",
          "text": [
            "GPU time\n",
            "Starting Training...\n"
          ]
        },
        {
          "output_type": "error",
          "ename": "KeyboardInterrupt",
          "evalue": "ignored",
          "traceback": [
            "\u001b[1;31m---------------------------------------------------------------------------\u001b[0m",
            "\u001b[1;31mKeyboardInterrupt\u001b[0m                         Traceback (most recent call last)",
            "Cell \u001b[1;32mIn[16], line 10\u001b[0m\n\u001b[0;32m      7\u001b[0m \u001b[38;5;28;01melse\u001b[39;00m:\n\u001b[0;32m      8\u001b[0m     \u001b[38;5;28mprint\u001b[39m(\u001b[38;5;124m\"\u001b[39m\u001b[38;5;124mno GPU :(\u001b[39m\u001b[38;5;124m\"\u001b[39m)\n\u001b[1;32m---> 10\u001b[0m \u001b[43mtrain\u001b[49m\u001b[43m(\u001b[49m\u001b[43mmodel1\u001b[49m\u001b[43m,\u001b[49m\u001b[43m \u001b[49m\u001b[43me\u001b[49m\u001b[38;5;241;43m=\u001b[39;49m\u001b[38;5;241;43m150\u001b[39;49m\u001b[43m,\u001b[49m\u001b[43m \u001b[49m\u001b[43mdata\u001b[49m\u001b[38;5;241;43m=\u001b[39;49m\u001b[43mtrain_data\u001b[49m\u001b[43m,\u001b[49m\u001b[43m \u001b[49m\u001b[43mbs\u001b[49m\u001b[38;5;241;43m=\u001b[39;49m\u001b[38;5;241;43m64\u001b[39;49m\u001b[43m,\u001b[49m\u001b[43m \u001b[49m\u001b[43mlr\u001b[49m\u001b[38;5;241;43m=\u001b[39;49m\u001b[38;5;241;43m0.005\u001b[39;49m\u001b[43m)\u001b[49m\n",
            "Cell \u001b[1;32mIn[14], line 16\u001b[0m, in \u001b[0;36mtrain\u001b[1;34m(model, data, bs, e, lr)\u001b[0m\n\u001b[0;32m     14\u001b[0m \u001b[38;5;28;01mif\u001b[39;00m use_cuda \u001b[38;5;129;01mand\u001b[39;00m torch\u001b[38;5;241m.\u001b[39mcuda\u001b[38;5;241m.\u001b[39mis_available():\n\u001b[0;32m     15\u001b[0m     imgs \u001b[38;5;241m=\u001b[39m imgs\u001b[38;5;241m.\u001b[39mcuda()\n\u001b[1;32m---> 16\u001b[0m     labels \u001b[38;5;241m=\u001b[39m \u001b[43mlabels\u001b[49m\u001b[38;5;241;43m.\u001b[39;49m\u001b[43mcuda\u001b[49m\u001b[43m(\u001b[49m\u001b[43m)\u001b[49m\n\u001b[0;32m     18\u001b[0m out \u001b[38;5;241m=\u001b[39m model(imgs)             \u001b[38;5;66;03m# forward pass\u001b[39;00m\n\u001b[0;32m     20\u001b[0m loss \u001b[38;5;241m=\u001b[39m criterion(out, labels) \u001b[38;5;66;03m# compute the total loss\u001b[39;00m\n",
            "\u001b[1;31mKeyboardInterrupt\u001b[0m: "
          ]
        }
      ]
    },
    {
      "cell_type": "code",
      "source": [
        "class ANN(nn.Module):\n",
        "    def __init__(self):\n",
        "        super(ANN, self).__init__()\n",
        "        self.name = \"ANNsmall\"\n",
        "        self.fc1 = nn.Linear(256 * 6 * 6, 32)\n",
        "        self.fc2 = nn.Linear(32, 10)\n",
        "\n",
        "        self.dropout = nn.Dropout(0.5)\n",
        "    \n",
        "    def forward(self, x):\n",
        "        x = x.view(-1, 256 * 6 * 6)        \n",
        "        x = F.relu(self.fc1(x))\n",
        "        return self.fc2(x)"
      ],
      "metadata": {
        "id": "qDQNA2ajJ9j-"
      },
      "execution_count": null,
      "outputs": []
    },
    {
      "cell_type": "code",
      "source": [
        "model2 = ANN()\n",
        "\n",
        "if use_cuda and torch.cuda.is_available():\n",
        "    model2.cuda()\n",
        "    print(\"GPU time\")\n",
        "else:\n",
        "    print(\"no GPU :(\")\n",
        "\n",
        "train(model2, e=150, data=train_data, bs=64, lr=0.005)"
      ],
      "metadata": {
        "colab": {
          "base_uri": "https://localhost:8080/",
          "height": 1000
        },
        "id": "4YmNpCUqKVj9",
        "outputId": "39795aa0-c7a9-49b7-8967-45a1c5030b05"
      },
      "execution_count": null,
      "outputs": [
        {
          "output_type": "stream",
          "name": "stdout",
          "text": [
            "GPU time\n",
            "Starting Training...\n",
            "epoch: 1, train accuracy: 0.32121, loss: 0.03245, val accuracy: 0.30492\n",
            "epoch: 2, train accuracy: 0.36844, loss: 0.02790, val accuracy: 0.32344\n",
            "epoch: 3, train accuracy: 0.42791, loss: 0.03149, val accuracy: 0.35196\n",
            "epoch: 4, train accuracy: 0.42823, loss: 0.02467, val accuracy: 0.33344\n",
            "epoch: 5, train accuracy: 0.45138, loss: 0.03000, val accuracy: 0.33945\n",
            "epoch: 6, train accuracy: 0.47557, loss: 0.02280, val accuracy: 0.35229\n",
            "epoch: 7, train accuracy: 0.54129, loss: 0.02198, val accuracy: 0.37548\n",
            "epoch: 8, train accuracy: 0.52922, loss: 0.01880, val accuracy: 0.37214\n",
            "epoch: 9, train accuracy: 0.60284, loss: 0.02401, val accuracy: 0.39550\n",
            "epoch: 10, train accuracy: 0.55758, loss: 0.02548, val accuracy: 0.38582\n",
            "epoch: 11, train accuracy: 0.60159, loss: 0.01533, val accuracy: 0.39049\n",
            "epoch: 12, train accuracy: 0.63531, loss: 0.01799, val accuracy: 0.40801\n",
            "epoch: 13, train accuracy: 0.62060, loss: 0.01183, val accuracy: 0.40100\n",
            "epoch: 14, train accuracy: 0.66971, loss: 0.01479, val accuracy: 0.41368\n",
            "epoch: 15, train accuracy: 0.69026, loss: 0.01408, val accuracy: 0.42135\n",
            "epoch: 16, train accuracy: 0.70994, loss: 0.01881, val accuracy: 0.42869\n",
            "epoch: 17, train accuracy: 0.67447, loss: 0.00726, val accuracy: 0.40534\n",
            "epoch: 18, train accuracy: 0.66396, loss: 0.02473, val accuracy: 0.39416\n",
            "epoch: 19, train accuracy: 0.71662, loss: 0.00899, val accuracy: 0.42902\n",
            "epoch: 20, train accuracy: 0.66593, loss: 0.01157, val accuracy: 0.40867\n",
            "epoch: 21, train accuracy: 0.74255, loss: 0.01455, val accuracy: 0.43386\n",
            "epoch: 22, train accuracy: 0.73369, loss: 0.01367, val accuracy: 0.42435\n",
            "epoch: 23, train accuracy: 0.73369, loss: 0.00946, val accuracy: 0.43103\n",
            "epoch: 24, train accuracy: 0.73998, loss: 0.00913, val accuracy: 0.43369\n",
            "epoch: 25, train accuracy: 0.76438, loss: 0.01460, val accuracy: 0.43953\n",
            "epoch: 26, train accuracy: 0.70483, loss: 0.01160, val accuracy: 0.41868\n",
            "epoch: 27, train accuracy: 0.81100, loss: 0.01219, val accuracy: 0.45038\n",
            "epoch: 28, train accuracy: 0.70808, loss: 0.01370, val accuracy: 0.40767\n",
            "epoch: 29, train accuracy: 0.72451, loss: 0.00674, val accuracy: 0.42052\n",
            "epoch: 30, train accuracy: 0.80535, loss: 0.01269, val accuracy: 0.44587\n",
            "epoch: 31, train accuracy: 0.77988, loss: 0.01229, val accuracy: 0.44437\n",
            "epoch: 32, train accuracy: 0.82060, loss: 0.01035, val accuracy: 0.45455\n",
            "epoch: 33, train accuracy: 0.82203, loss: 0.00577, val accuracy: 0.45621\n",
            "epoch: 34, train accuracy: 0.74987, loss: 0.00928, val accuracy: 0.42319\n",
            "epoch: 35, train accuracy: 0.82400, loss: 0.00870, val accuracy: 0.45838\n",
            "epoch: 36, train accuracy: 0.82925, loss: 0.00840, val accuracy: 0.45638\n",
            "epoch: 37, train accuracy: 0.82764, loss: 0.00610, val accuracy: 0.44671\n",
            "epoch: 38, train accuracy: 0.81739, loss: 0.01373, val accuracy: 0.43870\n",
            "epoch: 39, train accuracy: 0.79303, loss: 0.00716, val accuracy: 0.43586\n",
            "epoch: 40, train accuracy: 0.82132, loss: 0.00652, val accuracy: 0.44771\n",
            "epoch: 41, train accuracy: 0.84379, loss: 0.00673, val accuracy: 0.45922\n",
            "epoch: 42, train accuracy: 0.80410, loss: 0.00906, val accuracy: 0.43786\n",
            "epoch: 43, train accuracy: 0.83964, loss: 0.01027, val accuracy: 0.45538\n",
            "epoch: 44, train accuracy: 0.85654, loss: 0.00222, val accuracy: 0.45905\n",
            "epoch: 45, train accuracy: 0.85254, loss: 0.00686, val accuracy: 0.45738\n",
            "epoch: 46, train accuracy: 0.83932, loss: 0.01204, val accuracy: 0.44887\n",
            "epoch: 47, train accuracy: 0.88037, loss: 0.00481, val accuracy: 0.47239\n",
            "epoch: 48, train accuracy: 0.91030, loss: 0.00265, val accuracy: 0.48807\n",
            "epoch: 49, train accuracy: 0.84014, loss: 0.00746, val accuracy: 0.45538\n",
            "epoch: 50, train accuracy: 0.83036, loss: 0.00817, val accuracy: 0.45321\n",
            "epoch: 51, train accuracy: 0.87508, loss: 0.00277, val accuracy: 0.46305\n",
            "epoch: 52, train accuracy: 0.80264, loss: 0.00412, val accuracy: 0.43887\n",
            "epoch: 53, train accuracy: 0.87233, loss: 0.00230, val accuracy: 0.46372\n",
            "epoch: 54, train accuracy: 0.89819, loss: 0.00223, val accuracy: 0.46939\n",
            "epoch: 55, train accuracy: 0.86040, loss: 0.00764, val accuracy: 0.46088\n",
            "epoch: 56, train accuracy: 0.88330, loss: 0.00614, val accuracy: 0.46672\n",
            "epoch: 57, train accuracy: 0.86947, loss: 0.00452, val accuracy: 0.45655\n",
            "epoch: 58, train accuracy: 0.91362, loss: 0.00780, val accuracy: 0.47840\n",
            "epoch: 59, train accuracy: 0.91134, loss: 0.00474, val accuracy: 0.47423\n",
            "epoch: 60, train accuracy: 0.90094, loss: 0.00277, val accuracy: 0.47406\n",
            "epoch: 61, train accuracy: 0.92813, loss: 0.00078, val accuracy: 0.48374\n",
            "epoch: 62, train accuracy: 0.92223, loss: 0.00526, val accuracy: 0.48107\n",
            "epoch: 63, train accuracy: 0.85500, loss: 0.01325, val accuracy: 0.44370\n",
            "epoch: 64, train accuracy: 0.94099, loss: 0.00193, val accuracy: 0.48307\n",
            "epoch: 65, train accuracy: 0.90001, loss: 0.00406, val accuracy: 0.46372\n",
            "epoch: 66, train accuracy: 0.92513, loss: 0.00418, val accuracy: 0.47573\n",
            "epoch: 67, train accuracy: 0.92498, loss: 0.00192, val accuracy: 0.47423\n",
            "epoch: 68, train accuracy: 0.91337, loss: 0.00263, val accuracy: 0.47623\n",
            "epoch: 69, train accuracy: 0.90687, loss: 0.01213, val accuracy: 0.46639\n",
            "epoch: 70, train accuracy: 0.92434, loss: 0.00236, val accuracy: 0.47440\n",
            "epoch: 71, train accuracy: 0.89969, loss: 0.00183, val accuracy: 0.46405\n",
            "epoch: 72, train accuracy: 0.85050, loss: 0.00277, val accuracy: 0.45488\n",
            "epoch: 73, train accuracy: 0.93195, loss: 0.00202, val accuracy: 0.48123\n",
            "epoch: 74, train accuracy: 0.94785, loss: 0.00505, val accuracy: 0.48507\n",
            "epoch: 75, train accuracy: 0.92816, loss: 0.00419, val accuracy: 0.47606\n",
            "epoch: 76, train accuracy: 0.94267, loss: 0.00660, val accuracy: 0.48340\n",
            "epoch: 77, train accuracy: 0.91080, loss: 0.00472, val accuracy: 0.46589\n",
            "epoch: 78, train accuracy: 0.90030, loss: 0.00232, val accuracy: 0.46022\n",
            "epoch: 79, train accuracy: 0.87329, loss: 0.00682, val accuracy: 0.46672\n",
            "epoch: 80, train accuracy: 0.88523, loss: 0.00245, val accuracy: 0.45721\n",
            "epoch: 81, train accuracy: 0.90616, loss: 0.00980, val accuracy: 0.47440\n",
            "epoch: 82, train accuracy: 0.92080, loss: 0.00005, val accuracy: 0.47807\n",
            "epoch: 83, train accuracy: 0.93927, loss: 0.00262, val accuracy: 0.47356\n",
            "epoch: 84, train accuracy: 0.94642, loss: 0.00793, val accuracy: 0.48490\n",
            "epoch: 85, train accuracy: 0.92641, loss: 0.00046, val accuracy: 0.47990\n",
            "epoch: 86, train accuracy: 0.95167, loss: 0.00052, val accuracy: 0.49208\n",
            "epoch: 87, train accuracy: 0.95763, loss: 0.00232, val accuracy: 0.49141\n",
            "epoch: 88, train accuracy: 0.95192, loss: 0.00402, val accuracy: 0.48073\n",
            "epoch: 89, train accuracy: 0.95778, loss: 0.00105, val accuracy: 0.49191\n",
            "epoch: 90, train accuracy: 0.95931, loss: 0.00141, val accuracy: 0.48123\n",
            "epoch: 91, train accuracy: 0.96403, loss: 0.00440, val accuracy: 0.49141\n",
            "epoch: 92, train accuracy: 0.93888, loss: 0.00371, val accuracy: 0.47773\n",
            "epoch: 93, train accuracy: 0.91330, loss: 0.00556, val accuracy: 0.46606\n",
            "epoch: 94, train accuracy: 0.84697, loss: 0.01063, val accuracy: 0.45588\n",
            "epoch: 95, train accuracy: 0.86215, loss: 0.01033, val accuracy: 0.45688\n",
            "epoch: 96, train accuracy: 0.92516, loss: 0.00487, val accuracy: 0.47490\n",
            "epoch: 97, train accuracy: 0.95110, loss: 0.00393, val accuracy: 0.48590\n",
            "epoch: 98, train accuracy: 0.94474, loss: 0.00308, val accuracy: 0.48524\n",
            "epoch: 99, train accuracy: 0.96113, loss: 0.00155, val accuracy: 0.49441\n",
            "epoch: 100, train accuracy: 0.95517, loss: 0.00069, val accuracy: 0.48807\n",
            "epoch: 101, train accuracy: 0.95031, loss: 0.00232, val accuracy: 0.48807\n",
            "epoch: 102, train accuracy: 0.96342, loss: 0.00379, val accuracy: 0.48907\n",
            "epoch: 103, train accuracy: 0.96353, loss: 0.00152, val accuracy: 0.49124\n",
            "epoch: 104, train accuracy: 0.96514, loss: 0.00118, val accuracy: 0.48490\n",
            "epoch: 105, train accuracy: 0.96521, loss: 0.00145, val accuracy: 0.49124\n",
            "epoch: 106, train accuracy: 0.96699, loss: 0.00017, val accuracy: 0.48974\n",
            "epoch: 107, train accuracy: 0.96849, loss: 0.00074, val accuracy: 0.49374\n",
            "epoch: 108, train accuracy: 0.96610, loss: 0.00083, val accuracy: 0.48590\n",
            "epoch: 109, train accuracy: 0.96756, loss: 0.00029, val accuracy: 0.49141\n",
            "epoch: 110, train accuracy: 0.96946, loss: 0.00011, val accuracy: 0.49141\n",
            "epoch: 111, train accuracy: 0.96917, loss: 0.00316, val accuracy: 0.49008\n",
            "epoch: 112, train accuracy: 0.96956, loss: 0.00251, val accuracy: 0.48991\n",
            "epoch: 113, train accuracy: 0.96396, loss: 0.00076, val accuracy: 0.48457\n",
            "epoch: 114, train accuracy: 0.97132, loss: 0.00134, val accuracy: 0.49308\n",
            "epoch: 115, train accuracy: 0.97096, loss: 0.00168, val accuracy: 0.48924\n",
            "epoch: 116, train accuracy: 0.97124, loss: 0.00262, val accuracy: 0.49741\n",
            "epoch: 117, train accuracy: 0.92923, loss: 0.00358, val accuracy: 0.46689\n",
            "epoch: 118, train accuracy: 0.75784, loss: 0.02141, val accuracy: 0.41635\n",
            "epoch: 119, train accuracy: 0.87097, loss: 0.00398, val accuracy: 0.46088\n",
            "epoch: 120, train accuracy: 0.92402, loss: 0.00314, val accuracy: 0.46555\n",
            "epoch: 121, train accuracy: 0.94277, loss: 0.00379, val accuracy: 0.48057\n",
            "epoch: 122, train accuracy: 0.96110, loss: 0.00309, val accuracy: 0.48357\n",
            "epoch: 123, train accuracy: 0.95928, loss: 0.00011, val accuracy: 0.48807\n",
            "epoch: 124, train accuracy: 0.95681, loss: 0.00155, val accuracy: 0.48440\n",
            "epoch: 125, train accuracy: 0.96867, loss: 0.00136, val accuracy: 0.49691\n",
            "epoch: 126, train accuracy: 0.97057, loss: 0.00032, val accuracy: 0.49041\n",
            "epoch: 127, train accuracy: 0.97017, loss: 0.00025, val accuracy: 0.49658\n",
            "epoch: 128, train accuracy: 0.97157, loss: 0.00163, val accuracy: 0.49241\n",
            "epoch: 129, train accuracy: 0.97199, loss: 0.00157, val accuracy: 0.49324\n",
            "epoch: 130, train accuracy: 0.96646, loss: 0.00217, val accuracy: 0.49224\n",
            "epoch: 131, train accuracy: 0.97199, loss: 0.00003, val accuracy: 0.49491\n",
            "epoch: 132, train accuracy: 0.97335, loss: 0.00100, val accuracy: 0.49741\n",
            "epoch: 133, train accuracy: 0.97364, loss: 0.00058, val accuracy: 0.49691\n",
            "epoch: 134, train accuracy: 0.97307, loss: 0.00306, val accuracy: 0.49141\n",
            "epoch: 135, train accuracy: 0.97174, loss: 0.00003, val accuracy: 0.49541\n",
            "epoch: 136, train accuracy: 0.97342, loss: 0.00047, val accuracy: 0.49458\n",
            "epoch: 137, train accuracy: 0.97517, loss: 0.00109, val accuracy: 0.49525\n",
            "epoch: 138, train accuracy: 0.97439, loss: 0.00001, val accuracy: 0.49591\n",
            "epoch: 139, train accuracy: 0.97260, loss: 0.00064, val accuracy: 0.49191\n",
            "epoch: 140, train accuracy: 0.97567, loss: 0.00225, val accuracy: 0.49324\n",
            "epoch: 141, train accuracy: 0.97496, loss: 0.00005, val accuracy: 0.49391\n",
            "epoch: 142, train accuracy: 0.97392, loss: 0.00350, val accuracy: 0.49124\n",
            "epoch: 143, train accuracy: 0.97489, loss: 0.00012, val accuracy: 0.49008\n",
            "epoch: 144, train accuracy: 0.97517, loss: 0.00018, val accuracy: 0.49341\n",
            "epoch: 145, train accuracy: 0.97521, loss: 0.00440, val accuracy: 0.48757\n",
            "epoch: 146, train accuracy: 0.97510, loss: 0.00021, val accuracy: 0.49024\n",
            "epoch: 147, train accuracy: 0.97517, loss: 0.00013, val accuracy: 0.49525\n",
            "epoch: 148, train accuracy: 0.97378, loss: 0.00043, val accuracy: 0.49208\n",
            "epoch: 149, train accuracy: 0.97621, loss: 0.00200, val accuracy: 0.48857\n",
            "epoch: 150, train accuracy: 0.97228, loss: 0.00123, val accuracy: 0.48674\n"
          ]
        },
        {
          "output_type": "display_data",
          "data": {
            "text/plain": [
              "<Figure size 640x480 with 1 Axes>"
            ],
            "image/png": "[encoded data removed]"
          },
          "metadata": {}
        },
        {
          "output_type": "display_data",
          "data": {
            "text/plain": [
              "<Figure size 640x480 with 1 Axes>"
            ],
            "image/png": "[encoded data removed]"
          },
          "metadata": {}
        },
        {
          "output_type": "stream",
          "name": "stdout",
          "text": [
            "Final Training Accuracy: 0.9722797742373366\n",
            "Final Validation Accuracy: 0.48673894912427024\n"
          ]
        }
      ]
    },
    {
      "cell_type": "code",
      "source": [
        "class ANNtiny(nn.Module):\n",
        "    def __init__(self):\n",
        "        super(ANNtiny, self).__init__()\n",
        "        self.name = \"ANNtiny\"\n",
        "        self.fc1 = nn.Linear(256 * 6 * 6, 16)\n",
        "        self.fc2 = nn.Linear(16, 10)\n",
        "\n",
        "        self.dropout = nn.Dropout(0.5)\n",
        "    \n",
        "    def forward(self, x):\n",
        "        x = x.view(-1, 256 * 6 * 6)        \n",
        "        x = F.relu(self.fc1(x))\n",
        "        return self.fc2(x)"
      ],
      "metadata": {
        "id": "S9dv4KouMRk5"
      },
      "execution_count": null,
      "outputs": []
    },
    {
      "cell_type": "code",
      "source": [
        "model3 = ANNtiny()\n",
        "\n",
        "if use_cuda and torch.cuda.is_available():\n",
        "    model3.cuda()\n",
        "    print(\"GPU time\")\n",
        "else:\n",
        "    print(\"no GPU :(\")\n",
        "\n",
        "train(model3, e=150, data=train_data, bs=64, lr=0.005)\n"
      ],
      "metadata": {
        "id": "aymAb6u-ManM"
      },
      "execution_count": null,
      "outputs": []
    },
    {
      "cell_type": "code",
      "source": [
        "print(torch.cuda.memory_summary(device=None, abbreviated=True))"
      ],
      "metadata": {
        "id": "-7qgp6TaTjmS"
      },
      "execution_count": null,
      "outputs": []
    },
    {
      "cell_type": "code",
      "source": [
        "class CNNsmall(nn.Module):\n",
        "  def __init__(self):\n",
        "    super(CNNsmall, self).__init__()\n",
        "    self.name = \"CNN\"\n",
        "    self.conv1 = nn.Conv2d(3, 96, 11, stride=4)\n",
        "    #dims = 96*54*54 -> pool3 #dims is 96*26*26\n",
        "    self.conv2 = nn.Conv2d(96, 256, 5, padding=2)\n",
        "    #dims = 256*26*26 -> pool3 #dims is 256*12*12\n",
        "    self.conv3 = nn.Conv2d(256, 384, 3, padding=1)\n",
        "    #dims = 384*12*12\n",
        "    self.conv4 = nn.Conv2d(384, 384, 3, padding=1)\n",
        "    #dims = 384*12*12\n",
        "    self.conv5 = nn.Conv2d(384, 256, 3, padding=1)\n",
        "    #dims = 256*12*12 -> pool2 #dims is 256*6*6\n",
        "    self.fc1 = nn.Linear(256 * 6 * 6, 4096)\n",
        "    self.fc2 = nn.Linear(4096, 10)\n",
        "    \n",
        "    self.pool2 = nn.MaxPool2d(2, 2)\n",
        "    self.pool3 = nn.MaxPool2d(3, 2)\n",
        "\n",
        "    self.dropout = nn.Dropout(0.5)\n",
        "\n",
        "  def forward(self, x):\n",
        "    x = self.pool3(F.relu(self.conv1(x)))\n",
        "    x = self.pool3(F.relu(self.conv2(x)))\n",
        "    x = F.relu(self.conv3(x))\n",
        "    x = F.relu(self.conv4(x))\n",
        "    x = self.pool2(F.relu(self.conv5(x)))\n",
        "    x = x.view(-1, 256 * 6 * 6)\n",
        "    x = F.relu(self.fc1(x))\n",
        "    x = self.dropout(x)\n",
        "    return self.fc2(x)"
      ],
      "metadata": {
        "id": "8HGPTZ08qgp4"
      },
      "execution_count": null,
      "outputs": []
    },
    {
      "cell_type": "code",
      "source": [
        "model4 = CNNsmall()\n",
        "\n",
        "if use_cuda and torch.cuda.is_available():\n",
        "    model4.cuda()\n",
        "    print(\"GPU time\")\n",
        "else:\n",
        "    print(\"no GPU :(\")\n",
        "\n",
        "train(model4, e=100, data=train_data, bs=16, lr=0.005)"
      ],
      "metadata": {
        "id": "7A4x44zURGF2"
      },
      "execution_count": null,
      "outputs": []
    },
    {
      "cell_type": "code",
      "source": [
        "def get_test_accuracy(model, bs=64):\n",
        "  data = test_data\n",
        "  correct = 0\n",
        "  total = 0\n",
        "  \n",
        "  for imgs, labels in torch.utils.data.DataLoader(data, batch_size=bs):\n",
        "    #GPU time\n",
        "    if use_cuda and torch.cuda.is_available():\n",
        "      imgs = imgs.cuda()\n",
        "      labels = labels.cuda()\n",
        "    \n",
        "    output = model(imgs)\n",
        "    pred = output.max(1, keepdim=True)[1]\n",
        "    correct += pred.eq(labels.view_as(pred)).sum().item()\n",
        "    total += imgs.shape[0]\n",
        "  \n",
        "  return correct / total"
      ],
      "metadata": {
        "id": "qY2F0t4jRUdP"
      },
      "execution_count": null,
      "outputs": []
    },
    {
      "cell_type": "code",
      "source": [
        "best = ANN().cuda()\n",
        "best_path = \"Desktop/APS360/project/alexnet_features/model/ANNsmall_bs64_lr0.005_epoch124\"\n",
        "state = torch.load(best_path)\n",
        "best.load_state_dict(state)"
      ],
      "metadata": {
        "colab": {
          "base_uri": "https://localhost:8080/"
        },
        "id": "qaN9kJA7-j_L",
        "outputId": "0e639f53-12dc-4d1c-b897-3f4b2fd9fa42"
      },
      "execution_count": null,
      "outputs": [
        {
          "output_type": "execute_result",
          "data": {
            "text/plain": [
              "<All keys matched successfully>"
            ]
          },
          "metadata": {},
          "execution_count": 20
        }
      ]
    },
    {
      "cell_type": "code",
      "source": [
        "print(\"Test accuracy: {0}\".format(get_test_accuracy(best)))"
      ],
      "metadata": {
        "colab": {
          "base_uri": "https://localhost:8080/"
        },
        "id": "9mNvIyBY_Zrv",
        "outputId": "387e1667-c60d-4437-891d-497d2039c640"
      },
      "execution_count": null,
      "outputs": [
        {
          "output_type": "stream",
          "name": "stdout",
          "text": [
            "Test accuracy: 0.4925895087427144\n"
          ]
        }
      ]
    }
  ]
}