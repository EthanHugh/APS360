{
  "nbformat": 4,
  "nbformat_minor": 0,
  "metadata": {
    "colab": {
      "provenance": [],
      "authorship_tag": "ABX9TyO7leNOpw9D7BxpvV2lHAqn",
      "include_colab_link": true
    },
    "kernelspec": {
      "name": "python3",
      "display_name": "Python 3"
    },
    "language_info": {
      "name": "python"
    },
    "widgets": {
      "application/vnd.jupyter.widget-state+json": {
        "28b8d3f4a48a42b587e6ee4b5859f8f9": {
          "model_module": "@jupyter-widgets/controls",
          "model_name": "HBoxModel",
          "model_module_version": "1.5.0",
          "state": {
            "_dom_classes": [],
            "_model_module": "@jupyter-widgets/controls",
            "_model_module_version": "1.5.0",
            "_model_name": "HBoxModel",
            "_view_count": null,
            "_view_module": "@jupyter-widgets/controls",
            "_view_module_version": "1.5.0",
            "_view_name": "HBoxView",
            "box_style": "",
            "children": [
              "IPY_MODEL_ce29facfff2742d382a3221f3c0d7e68",
              "IPY_MODEL_6158d76e511b48dcbfbc2236d6d0340c",
              "IPY_MODEL_9843e74132eb4ae88c6acc885e8ef5cf"
            ],
            "layout": "IPY_MODEL_adae312f943e464bbf883cd33246caec"
          }
        },
        "ce29facfff2742d382a3221f3c0d7e68": {
          "model_module": "@jupyter-widgets/controls",
          "model_name": "HTMLModel",
          "model_module_version": "1.5.0",
          "state": {
            "_dom_classes": [],
            "_model_module": "@jupyter-widgets/controls",
            "_model_module_version": "1.5.0",
            "_model_name": "HTMLModel",
            "_view_count": null,
            "_view_module": "@jupyter-widgets/controls",
            "_view_module_version": "1.5.0",
            "_view_name": "HTMLView",
            "description": "",
            "description_tooltip": null,
            "layout": "IPY_MODEL_edd2d5a652714c1d83524150186b201e",
            "placeholder": "​",
            "style": "IPY_MODEL_a1b465e9e752482d87f7a7445101981d",
            "value": "100%"
          }
        },
        "6158d76e511b48dcbfbc2236d6d0340c": {
          "model_module": "@jupyter-widgets/controls",
          "model_name": "FloatProgressModel",
          "model_module_version": "1.5.0",
          "state": {
            "_dom_classes": [],
            "_model_module": "@jupyter-widgets/controls",
            "_model_module_version": "1.5.0",
            "_model_name": "FloatProgressModel",
            "_view_count": null,
            "_view_module": "@jupyter-widgets/controls",
            "_view_module_version": "1.5.0",
            "_view_name": "ProgressView",
            "bar_style": "success",
            "description": "",
            "description_tooltip": null,
            "layout": "IPY_MODEL_09453c24a1334a4ca8bad51ebb649e67",
            "max": 244408911,
            "min": 0,
            "orientation": "horizontal",
            "style": "IPY_MODEL_55218948f0b6466390d22b29447a6bd2",
            "value": 244408911
          }
        },
        "9843e74132eb4ae88c6acc885e8ef5cf": {
          "model_module": "@jupyter-widgets/controls",
          "model_name": "HTMLModel",
          "model_module_version": "1.5.0",
          "state": {
            "_dom_classes": [],
            "_model_module": "@jupyter-widgets/controls",
            "_model_module_version": "1.5.0",
            "_model_name": "HTMLModel",
            "_view_count": null,
            "_view_module": "@jupyter-widgets/controls",
            "_view_module_version": "1.5.0",
            "_view_name": "HTMLView",
            "description": "",
            "description_tooltip": null,
            "layout": "IPY_MODEL_683a16c150a9413d9b1ff09eef9bf2da",
            "placeholder": "​",
            "style": "IPY_MODEL_47025142b5224f898ff322db5ddfa346",
            "value": " 233M/233M [00:02&lt;00:00, 94.5MB/s]"
          }
        },
        "adae312f943e464bbf883cd33246caec": {
          "model_module": "@jupyter-widgets/base",
          "model_name": "LayoutModel",
          "model_module_version": "1.2.0",
          "state": {
            "_model_module": "@jupyter-widgets/base",
            "_model_module_version": "1.2.0",
            "_model_name": "LayoutModel",
            "_view_count": null,
            "_view_module": "@jupyter-widgets/base",
            "_view_module_version": "1.2.0",
            "_view_name": "LayoutView",
            "align_content": null,
            "align_items": null,
            "align_self": null,
            "border": null,
            "bottom": null,
            "display": null,
            "flex": null,
            "flex_flow": null,
            "grid_area": null,
            "grid_auto_columns": null,
            "grid_auto_flow": null,
            "grid_auto_rows": null,
            "grid_column": null,
            "grid_gap": null,
            "grid_row": null,
            "grid_template_areas": null,
            "grid_template_columns": null,
            "grid_template_rows": null,
            "height": null,
            "justify_content": null,
            "justify_items": null,
            "left": null,
            "margin": null,
            "max_height": null,
            "max_width": null,
            "min_height": null,
            "min_width": null,
            "object_fit": null,
            "object_position": null,
            "order": null,
            "overflow": null,
            "overflow_x": null,
            "overflow_y": null,
            "padding": null,
            "right": null,
            "top": null,
            "visibility": null,
            "width": null
          }
        },
        "edd2d5a652714c1d83524150186b201e": {
          "model_module": "@jupyter-widgets/base",
          "model_name": "LayoutModel",
          "model_module_version": "1.2.0",
          "state": {
            "_model_module": "@jupyter-widgets/base",
            "_model_module_version": "1.2.0",
            "_model_name": "LayoutModel",
            "_view_count": null,
            "_view_module": "@jupyter-widgets/base",
            "_view_module_version": "1.2.0",
            "_view_name": "LayoutView",
            "align_content": null,
            "align_items": null,
            "align_self": null,
            "border": null,
            "bottom": null,
            "display": null,
            "flex": null,
            "flex_flow": null,
            "grid_area": null,
            "grid_auto_columns": null,
            "grid_auto_flow": null,
            "grid_auto_rows": null,
            "grid_column": null,
            "grid_gap": null,
            "grid_row": null,
            "grid_template_areas": null,
            "grid_template_columns": null,
            "grid_template_rows": null,
            "height": null,
            "justify_content": null,
            "justify_items": null,
            "left": null,
            "margin": null,
            "max_height": null,
            "max_width": null,
            "min_height": null,
            "min_width": null,
            "object_fit": null,
            "object_position": null,
            "order": null,
            "overflow": null,
            "overflow_x": null,
            "overflow_y": null,
            "padding": null,
            "right": null,
            "top": null,
            "visibility": null,
            "width": null
          }
        },
        "a1b465e9e752482d87f7a7445101981d": {
          "model_module": "@jupyter-widgets/controls",
          "model_name": "DescriptionStyleModel",
          "model_module_version": "1.5.0",
          "state": {
            "_model_module": "@jupyter-widgets/controls",
            "_model_module_version": "1.5.0",
            "_model_name": "DescriptionStyleModel",
            "_view_count": null,
            "_view_module": "@jupyter-widgets/base",
            "_view_module_version": "1.2.0",
            "_view_name": "StyleView",
            "description_width": ""
          }
        },
        "09453c24a1334a4ca8bad51ebb649e67": {
          "model_module": "@jupyter-widgets/base",
          "model_name": "LayoutModel",
          "model_module_version": "1.2.0",
          "state": {
            "_model_module": "@jupyter-widgets/base",
            "_model_module_version": "1.2.0",
            "_model_name": "LayoutModel",
            "_view_count": null,
            "_view_module": "@jupyter-widgets/base",
            "_view_module_version": "1.2.0",
            "_view_name": "LayoutView",
            "align_content": null,
            "align_items": null,
            "align_self": null,
            "border": null,
            "bottom": null,
            "display": null,
            "flex": null,
            "flex_flow": null,
            "grid_area": null,
            "grid_auto_columns": null,
            "grid_auto_flow": null,
            "grid_auto_rows": null,
            "grid_column": null,
            "grid_gap": null,
            "grid_row": null,
            "grid_template_areas": null,
            "grid_template_columns": null,
            "grid_template_rows": null,
            "height": null,
            "justify_content": null,
            "justify_items": null,
            "left": null,
            "margin": null,
            "max_height": null,
            "max_width": null,
            "min_height": null,
            "min_width": null,
            "object_fit": null,
            "object_position": null,
            "order": null,
            "overflow": null,
            "overflow_x": null,
            "overflow_y": null,
            "padding": null,
            "right": null,
            "top": null,
            "visibility": null,
            "width": null
          }
        },
        "55218948f0b6466390d22b29447a6bd2": {
          "model_module": "@jupyter-widgets/controls",
          "model_name": "ProgressStyleModel",
          "model_module_version": "1.5.0",
          "state": {
            "_model_module": "@jupyter-widgets/controls",
            "_model_module_version": "1.5.0",
            "_model_name": "ProgressStyleModel",
            "_view_count": null,
            "_view_module": "@jupyter-widgets/base",
            "_view_module_version": "1.2.0",
            "_view_name": "StyleView",
            "bar_color": null,
            "description_width": ""
          }
        },
        "683a16c150a9413d9b1ff09eef9bf2da": {
          "model_module": "@jupyter-widgets/base",
          "model_name": "LayoutModel",
          "model_module_version": "1.2.0",
          "state": {
            "_model_module": "@jupyter-widgets/base",
            "_model_module_version": "1.2.0",
            "_model_name": "LayoutModel",
            "_view_count": null,
            "_view_module": "@jupyter-widgets/base",
            "_view_module_version": "1.2.0",
            "_view_name": "LayoutView",
            "align_content": null,
            "align_items": null,
            "align_self": null,
            "border": null,
            "bottom": null,
            "display": null,
            "flex": null,
            "flex_flow": null,
            "grid_area": null,
            "grid_auto_columns": null,
            "grid_auto_flow": null,
            "grid_auto_rows": null,
            "grid_column": null,
            "grid_gap": null,
            "grid_row": null,
            "grid_template_areas": null,
            "grid_template_columns": null,
            "grid_template_rows": null,
            "height": null,
            "justify_content": null,
            "justify_items": null,
            "left": null,
            "margin": null,
            "max_height": null,
            "max_width": null,
            "min_height": null,
            "min_width": null,
            "object_fit": null,
            "object_position": null,
            "order": null,
            "overflow": null,
            "overflow_x": null,
            "overflow_y": null,
            "padding": null,
            "right": null,
            "top": null,
            "visibility": null,
            "width": null
          }
        },
        "47025142b5224f898ff322db5ddfa346": {
          "model_module": "@jupyter-widgets/controls",
          "model_name": "DescriptionStyleModel",
          "model_module_version": "1.5.0",
          "state": {
            "_model_module": "@jupyter-widgets/controls",
            "_model_module_version": "1.5.0",
            "_model_name": "DescriptionStyleModel",
            "_view_count": null,
            "_view_module": "@jupyter-widgets/base",
            "_view_module_version": "1.2.0",
            "_view_name": "StyleView",
            "description_width": ""
          }
        }
      }
    }
  },
  "cells": [
    {
      "cell_type": "markdown",
      "metadata": {
        "id": "view-in-github",
        "colab_type": "text"
      },
      "source": [
        "<a href=\"https://colab.research.google.com/github/EthanHugh/APS360/blob/main/data.ipynb\" target=\"_parent\"><img src=\"https://colab.research.google.com/assets/colab-badge.svg\" alt=\"Open In Colab\"/></a>"
      ]
    },
    {
      "cell_type": "code",
      "execution_count": null,
      "metadata": {
        "id": "nJsFbxw1MLux",
        "colab": {
          "base_uri": "https://localhost:8080/"
        },
        "outputId": "38439d0a-2fc4-4bfd-817a-a9ba2e8e6dfe"
      },
      "outputs": [
        {
          "output_type": "stream",
          "name": "stdout",
          "text": [
            "Looking in indexes: https://pypi.org/simple, https://us-python.pkg.dev/colab-wheels/public/simple/\n",
            "Collecting rawg\n",
            "  Downloading rawg-1.2.0-py3-none-any.whl (172 kB)\n",
            "\u001b[2K     \u001b[90m━━━━━━━━━━━━━━━━━━━━━━━━━━━━━━━━━━━━━━━\u001b[0m \u001b[32m172.2/172.2 KB\u001b[0m \u001b[31m2.3 MB/s\u001b[0m eta \u001b[36m0:00:00\u001b[0m\n",
            "\u001b[?25hRequirement already satisfied: setuptools>=21.0.0 in /usr/local/lib/python3.9/dist-packages (from rawg) (67.6.1)\n",
            "Requirement already satisfied: future in /usr/local/lib/python3.9/dist-packages (from rawg) (0.18.3)\n",
            "Requirement already satisfied: urllib3>=1.25.3 in /usr/local/lib/python3.9/dist-packages (from rawg) (1.26.15)\n",
            "Collecting aiohttp>=3.6.2\n",
            "  Downloading aiohttp-3.8.4-cp39-cp39-manylinux_2_17_x86_64.manylinux2014_x86_64.whl (1.0 MB)\n",
            "\u001b[2K     \u001b[90m━━━━━━━━━━━━━━━━━━━━━━━━━━━━━━━━━━━━━━━━\u001b[0m \u001b[32m1.0/1.0 MB\u001b[0m \u001b[31m8.2 MB/s\u001b[0m eta \u001b[36m0:00:00\u001b[0m\n",
            "\u001b[?25hRequirement already satisfied: python-dateutil>=2.5.3 in /usr/local/lib/python3.9/dist-packages (from rawg) (2.8.2)\n",
            "Requirement already satisfied: six>=1.10 in /usr/local/lib/python3.9/dist-packages (from rawg) (1.16.0)\n",
            "Requirement already satisfied: certifi>=14.05.14 in /usr/local/lib/python3.9/dist-packages (from rawg) (2022.12.7)\n",
            "Collecting frozenlist>=1.1.1\n",
            "  Downloading frozenlist-1.3.3-cp39-cp39-manylinux_2_5_x86_64.manylinux1_x86_64.manylinux_2_17_x86_64.manylinux2014_x86_64.whl (158 kB)\n",
            "\u001b[2K     \u001b[90m━━━━━━━━━━━━━━━━━━━━━━━━━━━━━━━━━━━━━━━\u001b[0m \u001b[32m158.8/158.8 KB\u001b[0m \u001b[31m5.0 MB/s\u001b[0m eta \u001b[36m0:00:00\u001b[0m\n",
            "\u001b[?25hCollecting multidict<7.0,>=4.5\n",
            "  Downloading multidict-6.0.4-cp39-cp39-manylinux_2_17_x86_64.manylinux2014_x86_64.whl (114 kB)\n",
            "\u001b[2K     \u001b[90m━━━━━━━━━━━━━━━━━━━━━━━━━━━━━━━━━━━━━━━\u001b[0m \u001b[32m114.2/114.2 KB\u001b[0m \u001b[31m3.2 MB/s\u001b[0m eta \u001b[36m0:00:00\u001b[0m\n",
            "\u001b[?25hCollecting yarl<2.0,>=1.0\n",
            "  Downloading yarl-1.8.2-cp39-cp39-manylinux_2_17_x86_64.manylinux2014_x86_64.whl (264 kB)\n",
            "\u001b[2K     \u001b[90m━━━━━━━━━━━━━━━━━━━━━━━━━━━━━━━━━━━━━━━\u001b[0m \u001b[32m264.6/264.6 KB\u001b[0m \u001b[31m9.4 MB/s\u001b[0m eta \u001b[36m0:00:00\u001b[0m\n",
            "\u001b[?25hCollecting async-timeout<5.0,>=4.0.0a3\n",
            "  Downloading async_timeout-4.0.2-py3-none-any.whl (5.8 kB)\n",
            "Requirement already satisfied: attrs>=17.3.0 in /usr/local/lib/python3.9/dist-packages (from aiohttp>=3.6.2->rawg) (22.2.0)\n",
            "Requirement already satisfied: charset-normalizer<4.0,>=2.0 in /usr/local/lib/python3.9/dist-packages (from aiohttp>=3.6.2->rawg) (2.0.12)\n",
            "Collecting aiosignal>=1.1.2\n",
            "  Downloading aiosignal-1.3.1-py3-none-any.whl (7.6 kB)\n",
            "Requirement already satisfied: idna>=2.0 in /usr/local/lib/python3.9/dist-packages (from yarl<2.0,>=1.0->aiohttp>=3.6.2->rawg) (3.4)\n",
            "Installing collected packages: multidict, frozenlist, async-timeout, yarl, aiosignal, aiohttp, rawg\n",
            "Successfully installed aiohttp-3.8.4 aiosignal-1.3.1 async-timeout-4.0.2 frozenlist-1.3.3 multidict-6.0.4 rawg-1.2.0 yarl-1.8.2\n"
          ]
        }
      ],
      "source": [
        "!pip install rawg"
      ]
    },
    {
      "cell_type": "code",
      "source": [
        "pip install nest-asyncio"
      ],
      "metadata": {
        "id": "Wamz8l97Ogqb",
        "colab": {
          "base_uri": "https://localhost:8080/"
        },
        "outputId": "79757834-f62f-4317-90af-f4baf5ea99ed"
      },
      "execution_count": null,
      "outputs": [
        {
          "output_type": "stream",
          "name": "stdout",
          "text": [
            "Looking in indexes: https://pypi.org/simple, https://us-python.pkg.dev/colab-wheels/public/simple/\n",
            "Requirement already satisfied: nest-asyncio in /usr/local/lib/python3.9/dist-packages (1.5.6)\n"
          ]
        }
      ]
    },
    {
      "cell_type": "code",
      "source": [
        "pip install requests"
      ],
      "metadata": {
        "id": "QR1vhQjsWBxi",
        "colab": {
          "base_uri": "https://localhost:8080/"
        },
        "outputId": "88cf1af3-05b6-4629-8a6a-f00f02bfeae6"
      },
      "execution_count": null,
      "outputs": [
        {
          "output_type": "stream",
          "name": "stdout",
          "text": [
            "Looking in indexes: https://pypi.org/simple, https://us-python.pkg.dev/colab-wheels/public/simple/\n",
            "Requirement already satisfied: requests in /usr/local/lib/python3.9/dist-packages (2.27.1)\n",
            "Requirement already satisfied: idna<4,>=2.5 in /usr/local/lib/python3.9/dist-packages (from requests) (3.4)\n",
            "Requirement already satisfied: urllib3<1.27,>=1.21.1 in /usr/local/lib/python3.9/dist-packages (from requests) (1.26.15)\n",
            "Requirement already satisfied: charset-normalizer~=2.0.0 in /usr/local/lib/python3.9/dist-packages (from requests) (2.0.12)\n",
            "Requirement already satisfied: certifi>=2017.4.17 in /usr/local/lib/python3.9/dist-packages (from requests) (2022.12.7)\n"
          ]
        }
      ]
    },
    {
      "cell_type": "code",
      "source": [
        "import requests"
      ],
      "metadata": {
        "id": "j87rMRYZWA1x"
      },
      "execution_count": null,
      "outputs": []
    },
    {
      "cell_type": "code",
      "source": [
        "from google.colab import drive\n",
        "drive.mount('/content/gdrive')\n",
        "\n",
        "base_dir = \"/content/gdrive/MyDrive/Colab Notebooks/APS360/project\""
      ],
      "metadata": {
        "colab": {
          "base_uri": "https://localhost:8080/"
        },
        "id": "NMO7OplP0pc8",
        "outputId": "b8899871-938b-4903-c11c-960bea22664c"
      },
      "execution_count": null,
      "outputs": [
        {
          "output_type": "stream",
          "name": "stdout",
          "text": [
            "Mounted at /content/gdrive\n"
          ]
        }
      ]
    },
    {
      "cell_type": "code",
      "source": [
        "import asyncio\n",
        "import rawg\n",
        "import nest_asyncio\n",
        "from __future__ import print_function\n",
        "import time\n",
        "import rawg\n",
        "from rawg.rest import ApiException\n",
        "from pprint import pprint\n",
        "nest_asyncio.apply()"
      ],
      "metadata": {
        "id": "TP23cSMVOipd"
      },
      "execution_count": null,
      "outputs": []
    },
    {
      "cell_type": "code",
      "source": [
        "dictionary = {}\n",
        "async def gamerequest():\n",
        "    async with rawg.ApiClient(rawg.Configuration(api_key={'key': '13d22dedbd8f4262a284248726d4fb02'})) as api_client:\n",
        "        # Create an instance of the API class\n",
        "            # Create an instance of the API class\n",
        "        api_instance = rawg.GenresApi(api_client)\n",
        "\n",
        "        try:\n",
        "            # Get a list of video game genres.\n",
        "            api_response = api_instance.genres_list()\n",
        "            genre: rawg.GenresList200Response = await api_response\n",
        "            for i in genre.results:\n",
        "                if i.name in [\"RPG\", \n",
        "                              \"Strategy\", \n",
        "                              \"Shooter\", \n",
        "                              \"Puzzle\", \n",
        "                              \"Arcade\", \n",
        "                              \"Racing\", \n",
        "                              \"Sports\", \n",
        "                              \"Fighting\", \n",
        "                              \"Board Games\", \n",
        "                              \"Educational\",]:\n",
        "                    print(\"Genre: {}\\nid: {}\\nnum: {}\\n\".format(i.name, i.id, i.games_count))\n",
        "                    dictionary[i.name] = i.id\n",
        "            \n",
        "        except ApiException as e:\n",
        "            print(\"Exception when calling GenresApi->genres_list: %s\\n\" % e)\n",
        "\n",
        "\n",
        "if __name__ == '__main__':\n",
        "  asyncio.get_event_loop().run_until_complete(gamerequest())\n",
        "  print(dictionary)"
      ],
      "metadata": {
        "id": "kgb339wHOlW1",
        "colab": {
          "base_uri": "https://localhost:8080/"
        },
        "outputId": "f3b0d083-dad3-4ae9-960e-56f66c4a9645"
      },
      "execution_count": null,
      "outputs": [
        {
          "output_type": "stream",
          "name": "stdout",
          "text": [
            "Genre: RPG\n",
            "id: 5\n",
            "num: 54266\n",
            "\n",
            "Genre: Strategy\n",
            "id: 10\n",
            "num: 53999\n",
            "\n",
            "Genre: Shooter\n",
            "id: 2\n",
            "num: 63545\n",
            "\n",
            "Genre: Puzzle\n",
            "id: 7\n",
            "num: 100904\n",
            "\n",
            "Genre: Arcade\n",
            "id: 11\n",
            "num: 22549\n",
            "\n",
            "Genre: Racing\n",
            "id: 1\n",
            "num: 24672\n",
            "\n",
            "Genre: Sports\n",
            "id: 15\n",
            "num: 20873\n",
            "\n",
            "Genre: Fighting\n",
            "id: 6\n",
            "num: 12499\n",
            "\n",
            "Genre: Board Games\n",
            "id: 28\n",
            "num: 8284\n",
            "\n",
            "Genre: Educational\n",
            "id: 34\n",
            "num: 16429\n",
            "\n",
            "{'RPG': 5, 'Strategy': 10, 'Shooter': 2, 'Puzzle': 7, 'Arcade': 11, 'Racing': 1, 'Sports': 15, 'Fighting': 6, 'Board Games': 28, 'Educational': 34}\n"
          ]
        }
      ]
    },
    {
      "cell_type": "code",
      "source": [
        "from PIL import Image"
      ],
      "metadata": {
        "id": "LD098NviY1g5"
      },
      "execution_count": null,
      "outputs": []
    },
    {
      "cell_type": "code",
      "source": [
        "import os"
      ],
      "metadata": {
        "id": "9zE05Hzg8-S0"
      },
      "execution_count": null,
      "outputs": []
    },
    {
      "cell_type": "code",
      "source": [
        "for i in dictionary.items():\n",
        "    os.makedirs(\"{}/bigsetraw/{}\".format(base_dir, i[0]))"
      ],
      "metadata": {
        "id": "Hvx61qHD3Glq"
      },
      "execution_count": null,
      "outputs": []
    },
    {
      "cell_type": "code",
      "source": [
        "for i in dictionary.items():\n",
        "    os.makedirs(\"{}/bigset224/{}\".format(base_dir, i[0]))"
      ],
      "metadata": {
        "id": "oidq6m2k4__6"
      },
      "execution_count": null,
      "outputs": []
    },
    {
      "cell_type": "code",
      "source": [
        "async def gamerequest():\n",
        "    async with rawg.ApiClient(rawg.Configuration(api_key={'key': '13d22dedbd8f4262a284248726d4fb02'})) as api_client:\n",
        "        # Create an instance of the API class\n",
        "            # Create an instance of the API class\n",
        "        api = rawg.GamesApi(api_client)\n",
        "\n",
        "        seen = set()\n",
        "        \n",
        "        \n",
        "        for genre_pair in dictionary.items():\n",
        "            print(genre_pair[0])\n",
        "            count = 0\n",
        "            index = 1\n",
        "            while count < 1000:\n",
        "                index += 1\n",
        "                try:\n",
        "                    # Making requests\n",
        "                    coros = api.games_list(page_size=1,genres=str(genre_pair[1]),page=index)\n",
        "                    index += 1\n",
        "                    games_list: rawg.GameSingle = await coros\n",
        "\n",
        "                    for game in games_list.results:\n",
        "                        try:\n",
        "                            if game.name not in seen:\n",
        "                                img_data = requests.get(game.background_image).content\n",
        "                                # img_data = requests.get(str)\n",
        "                                with open('{}/bigsetraw/{}/{}.jpg'.format(base_dir, genre_pair[0], game.name), 'wb') as handler:\n",
        "                                    handler.write(img_data)\n",
        "                                seen.add(game.name)\n",
        "                                count += 1\n",
        "                                if (count % 10 == 0):\n",
        "                                    print(count)\n",
        "                        except Exception as e: \n",
        "                            print(e)\n",
        "                except Exception as ex: \n",
        "                    print(ex)\n",
        "\n",
        "\n",
        "        \n",
        "\n",
        "\n",
        "if __name__ == '__main__':\n",
        "  asyncio.get_event_loop().run_until_complete(gamerequest())"
      ],
      "metadata": {
        "id": "NNQ5U6W4TjRc"
      },
      "execution_count": null,
      "outputs": []
    },
    {
      "cell_type": "code",
      "source": [
        "for i in dictionary.items():\n",
        "    print(i[0] + \" :\", end=\"\")\n",
        "    print(len([name for name in os.listdir('{}/bigsetraw/{}'.format(base_dir, i[0])) if os.path.isfile('{}/bigsetraw/{}/{}'.format(base_dir, i[0], name))]))"
      ],
      "metadata": {
        "id": "RlYQT70FEjTk",
        "colab": {
          "base_uri": "https://localhost:8080/"
        },
        "outputId": "15d38dc0-6e42-4076-bb18-481a52aa4b89"
      },
      "execution_count": null,
      "outputs": [
        {
          "output_type": "stream",
          "name": "stdout",
          "text": [
            "RPG :1000\n",
            "Strategy :1000\n",
            "Shooter :1000\n",
            "Puzzle :1000\n",
            "Arcade :1000\n",
            "Racing :1000\n",
            "Sports :1000\n",
            "Fighting :1000\n",
            "Board Games :1000\n",
            "Educational :1000\n"
          ]
        }
      ]
    },
    {
      "cell_type": "code",
      "source": [
        "for i in dictionary.items():\n",
        "    print(i[0] + \":\")\n",
        "    for name in os.listdir('{}/bigsetraw/{}'.format(base_dir, i[0])):\n",
        "        print(name)\n",
        "    print(\"\\n\")"
      ],
      "metadata": {
        "id": "Ezw2lwgKWyWm"
      },
      "execution_count": null,
      "outputs": []
    },
    {
      "cell_type": "code",
      "source": [
        "from os.path import isfile, join"
      ],
      "metadata": {
        "id": "HkXx1YGuLZaz"
      },
      "execution_count": null,
      "outputs": []
    },
    {
      "cell_type": "code",
      "source": [
        "for i in dictionary.items():\n",
        "    print(i[0] + \":\")\n",
        "    for name in os.listdir('{}/bigsetraw/{}'.format(base_dir, i[0])):\n",
        "        if os.path.isfile('{}/bigsetraw/{}/{}'.format(base_dir, i[0], name)):\n",
        "            image = Image.open('{}/bigsetraw/{}/{}'.format(base_dir, i[0], name))\n",
        "            new_image = image.resize((224, 224))\n",
        "            new_image.save('{}/bigset224/{}/{}'.format(base_dir, i[0], name))"
      ],
      "metadata": {
        "id": "YKtNQfRWY4bc",
        "colab": {
          "base_uri": "https://localhost:8080/"
        },
        "outputId": "1318c1b6-a798-4d64-f037-ae0f46843ced"
      },
      "execution_count": null,
      "outputs": [
        {
          "output_type": "stream",
          "name": "stdout",
          "text": [
            "RPG:\n",
            "Strategy:\n",
            "Shooter:\n",
            "Puzzle:\n",
            "Arcade:\n",
            "Racing:\n",
            "Sports:\n",
            "Fighting:\n",
            "Board Games:\n",
            "Educational:\n"
          ]
        }
      ]
    },
    {
      "cell_type": "code",
      "source": [
        "for i in dictionary.items():\n",
        "    print(i[0] + \" :\", end=\"\")\n",
        "    print(len([name for name in os.listdir('{}/bigset224/{}'.format(base_dir, i[0]))]))"
      ],
      "metadata": {
        "id": "qmIAqtNSYgR8",
        "colab": {
          "base_uri": "https://localhost:8080/"
        },
        "outputId": "98110cc6-ab20-41ea-8d6a-91d62b629374"
      },
      "execution_count": null,
      "outputs": [
        {
          "output_type": "stream",
          "name": "stdout",
          "text": [
            "RPG :1000\n",
            "Strategy :1000\n",
            "Shooter :1000\n",
            "Puzzle :1000\n",
            "Arcade :1000\n",
            "Racing :1000\n",
            "Sports :1000\n",
            "Fighting :1000\n",
            "Board Games :1000\n",
            "Educational :1000\n"
          ]
        }
      ]
    },
    {
      "cell_type": "code",
      "source": [
        "!pip install split-folders\n",
        "import splitfolders"
      ],
      "metadata": {
        "colab": {
          "base_uri": "https://localhost:8080/"
        },
        "id": "1SwdVRDYnOCo",
        "outputId": "c207449f-f5df-4e54-c8d3-405cefa04d16"
      },
      "execution_count": null,
      "outputs": [
        {
          "output_type": "stream",
          "name": "stdout",
          "text": [
            "Looking in indexes: https://pypi.org/simple, https://us-python.pkg.dev/colab-wheels/public/simple/\n",
            "Collecting split-folders\n",
            "  Downloading split_folders-0.5.1-py3-none-any.whl (8.4 kB)\n",
            "Installing collected packages: split-folders\n",
            "Successfully installed split-folders-0.5.1\n"
          ]
        }
      ]
    },
    {
      "cell_type": "code",
      "source": [
        "data_path = '/content/gdrive/MyDrive/project/bigset224'\n",
        "data_sets = '/content/gdrive/MyDrive/project'"
      ],
      "metadata": {
        "id": "mmo7jEWvyGix"
      },
      "execution_count": null,
      "outputs": []
    },
    {
      "cell_type": "code",
      "source": [
        "splitfolders.ratio(data_path, data_sets, seed=42, ratio=(0.7, 0.15, 0.15))"
      ],
      "metadata": {
        "colab": {
          "base_uri": "https://localhost:8080/"
        },
        "id": "xSBtOSjHnIJe",
        "outputId": "c8832ccc-3d56-4cbb-dcf9-757f72fbaf35"
      },
      "execution_count": null,
      "outputs": [
        {
          "output_type": "stream",
          "name": "stderr",
          "text": [
            "Copying files: 9997 files [03:06, 53.74 files/s]\n"
          ]
        }
      ]
    },
    {
      "cell_type": "code",
      "source": [
        "for i in dictionary.items():\n",
        "    print(len([name for name in os.listdir('{}/val/{}'.format(data_sets, i[0]))]))"
      ],
      "metadata": {
        "id": "WXnvcVIE4vSl",
        "colab": {
          "base_uri": "https://localhost:8080/"
        },
        "outputId": "07cb8dd5-3ec4-4b80-dc62-0b7586a5a010"
      },
      "execution_count": null,
      "outputs": [
        {
          "output_type": "stream",
          "name": "stdout",
          "text": [
            "150\n",
            "150\n",
            "150\n",
            "149\n",
            "149\n",
            "150\n",
            "150\n",
            "149\n",
            "150\n",
            "150\n"
          ]
        }
      ]
    },
    {
      "cell_type": "code",
      "source": [
        "import torchvision.models\n",
        "alexnet = torchvision.models.alexnet(pretrained=True)"
      ],
      "metadata": {
        "colab": {
          "base_uri": "https://localhost:8080/",
          "height": 156,
          "referenced_widgets": [
            "28b8d3f4a48a42b587e6ee4b5859f8f9",
            "ce29facfff2742d382a3221f3c0d7e68",
            "6158d76e511b48dcbfbc2236d6d0340c",
            "9843e74132eb4ae88c6acc885e8ef5cf",
            "adae312f943e464bbf883cd33246caec",
            "edd2d5a652714c1d83524150186b201e",
            "a1b465e9e752482d87f7a7445101981d",
            "09453c24a1334a4ca8bad51ebb649e67",
            "55218948f0b6466390d22b29447a6bd2",
            "683a16c150a9413d9b1ff09eef9bf2da",
            "47025142b5224f898ff322db5ddfa346"
          ]
        },
        "id": "NAJH8pvXtYWJ",
        "outputId": "49828427-8adc-4502-a2f7-a6fe126059c4"
      },
      "execution_count": null,
      "outputs": [
        {
          "output_type": "stream",
          "name": "stderr",
          "text": [
            "/usr/local/lib/python3.9/dist-packages/torchvision/models/_utils.py:208: UserWarning: The parameter 'pretrained' is deprecated since 0.13 and may be removed in the future, please use 'weights' instead.\n",
            "  warnings.warn(\n",
            "/usr/local/lib/python3.9/dist-packages/torchvision/models/_utils.py:223: UserWarning: Arguments other than a weight enum or `None` for 'weights' are deprecated since 0.13 and may be removed in the future. The current behavior is equivalent to passing `weights=AlexNet_Weights.IMAGENET1K_V1`. You can also use `weights=AlexNet_Weights.DEFAULT` to get the most up-to-date weights.\n",
            "  warnings.warn(msg)\n",
            "Downloading: \"https://download.pytorch.org/models/alexnet-owt-7be5be79.pth\" to /root/.cache/torch/hub/checkpoints/alexnet-owt-7be5be79.pth\n"
          ]
        },
        {
          "output_type": "display_data",
          "data": {
            "text/plain": [
              "  0%|          | 0.00/233M [00:00<?, ?B/s]"
            ],
            "application/vnd.jupyter.widget-view+json": {
              "version_major": 2,
              "version_minor": 0,
              "model_id": "28b8d3f4a48a42b587e6ee4b5859f8f9"
            }
          },
          "metadata": {}
        }
      ]
    },
    {
      "cell_type": "code",
      "source": [
        "print(base_dir)"
      ],
      "metadata": {
        "colab": {
          "base_uri": "https://localhost:8080/"
        },
        "id": "ieMycUOUtsln",
        "outputId": "0278c21c-c8de-4f80-f9f4-2e6d6be6c158"
      },
      "execution_count": null,
      "outputs": [
        {
          "output_type": "stream",
          "name": "stdout",
          "text": [
            "/content/gdrive/MyDrive/Colab Notebooks/APS360/project\n"
          ]
        }
      ]
    },
    {
      "cell_type": "code",
      "source": [
        "import torchvision.transforms as transforms"
      ],
      "metadata": {
        "id": "AzO3AOvvuefx"
      },
      "execution_count": null,
      "outputs": []
    },
    {
      "cell_type": "code",
      "source": [
        "transform = transforms.ToTensor()"
      ],
      "metadata": {
        "id": "GtSKoC6NuXM6"
      },
      "execution_count": null,
      "outputs": []
    },
    {
      "cell_type": "code",
      "source": [
        "data_dir = base_dir + \"/bigset224/datasets/\"\n",
        "print(data_dir)"
      ],
      "metadata": {
        "colab": {
          "base_uri": "https://localhost:8080/"
        },
        "id": "12ys4GBCuqp_",
        "outputId": "a687eae0-594d-4491-dacd-bc43acbdc5ee"
      },
      "execution_count": null,
      "outputs": [
        {
          "output_type": "stream",
          "name": "stdout",
          "text": [
            "/content/gdrive/MyDrive/Colab Notebooks/APS360/project/bigset224/datasets/\n"
          ]
        }
      ]
    },
    {
      "cell_type": "code",
      "source": [
        "train_data = torchvision.datasets.ImageFolder(data_dir + 'train', transform=transform)\n",
        "val_data = torchvision.datasets.ImageFolder(data_dir + 'val', transform=transform)\n",
        "test_data = torchvision.datasets.ImageFolder(data_dir + 'test', transform=transform)"
      ],
      "metadata": {
        "id": "SUv9-iJ1uTp5"
      },
      "execution_count": null,
      "outputs": []
    },
    {
      "cell_type": "code",
      "source": [
        "num_total = len(train_data) + len(val_data) + len(test_data)\n",
        "\n",
        "print(f'Training images: {len(train_data)} ({(len(train_data)/num_total)*100:.2f}%)')\n",
        "print(f'Training images: {len(val_data)} ({(len(val_data)/num_total)*100:.2f}%)')\n",
        "print(f'Training images: {len(test_data)} ({(len(test_data)/num_total)*100:.2f}%)')"
      ],
      "metadata": {
        "colab": {
          "base_uri": "https://localhost:8080/"
        },
        "id": "v87q22ayvaSQ",
        "outputId": "30ead512-a09a-4bc1-9f43-31d1ccfa107b"
      },
      "execution_count": null,
      "outputs": [
        {
          "output_type": "stream",
          "name": "stdout",
          "text": [
            "Training images: 6997 (69.99%)\n",
            "Training images: 1497 (14.97%)\n",
            "Training images: 1503 (15.03%)\n"
          ]
        }
      ]
    },
    {
      "cell_type": "code",
      "source": [
        "alex_train_path = \"/content/gdrive/MyDrive/project/alexnet_features/train\"\n",
        "alex_val_path = \"/content/gdrive/MyDrive/project/alexnet_features/val\"\n",
        "alex_test_path = \"/content/gdrive/MyDrive/project/alexnet_features/test\""
      ],
      "metadata": {
        "id": "OVpJnp46vhr1"
      },
      "execution_count": null,
      "outputs": []
    },
    {
      "cell_type": "code",
      "source": [
        "import torch"
      ],
      "metadata": {
        "id": "_pccS3ebv6cb"
      },
      "execution_count": null,
      "outputs": []
    },
    {
      "cell_type": "code",
      "source": [
        "train_loader = torch.utils.data.DataLoader(train_data, batch_size=1, num_workers=1)\n",
        "val_loader = torch.utils.data.DataLoader(val_data, batch_size=1, num_workers=1)\n",
        "test_loader = torch.utils.data.DataLoader(test_data, batch_size=1, num_workers=1)"
      ],
      "metadata": {
        "id": "ArBfNfiRv1N9"
      },
      "execution_count": null,
      "outputs": []
    },
    {
      "cell_type": "code",
      "source": [
        "print(dictionary)"
      ],
      "metadata": {
        "colab": {
          "base_uri": "https://localhost:8080/"
        },
        "id": "cDIT42V2wC75",
        "outputId": "76b3286e-f081-4871-c797-b3fdce3b2efe"
      },
      "execution_count": null,
      "outputs": [
        {
          "output_type": "stream",
          "name": "stdout",
          "text": [
            "{'RPG': 5, 'Strategy': 10, 'Shooter': 2, 'Puzzle': 7, 'Arcade': 11, 'Racing': 1, 'Sports': 15, 'Fighting': 6, 'Board Games': 28, 'Educational': 34}\n"
          ]
        }
      ]
    },
    {
      "cell_type": "code",
      "source": [
        "classes = [i for i in dictionary]\n",
        "print(classes)"
      ],
      "metadata": {
        "colab": {
          "base_uri": "https://localhost:8080/"
        },
        "id": "cGAYGYB9wIo5",
        "outputId": "271edbe0-3f71-48e4-ab27-fc9f5730cc0f"
      },
      "execution_count": null,
      "outputs": [
        {
          "output_type": "stream",
          "name": "stdout",
          "text": [
            "['RPG', 'Strategy', 'Shooter', 'Puzzle', 'Arcade', 'Racing', 'Sports', 'Fighting', 'Board Games', 'Educational']\n"
          ]
        }
      ]
    },
    {
      "cell_type": "code",
      "source": [
        "for i in classes:\n",
        "    os.makedirs(alex_train_path + \"/\" + i)\n",
        "    os.makedirs(alex_val_path + \"/\" + i)\n",
        "    os.makedirs(alex_test_path + \"/\" + i)"
      ],
      "metadata": {
        "id": "s_w62oVR1qYh"
      },
      "execution_count": null,
      "outputs": []
    },
    {
      "cell_type": "code",
      "source": [
        "for i, (img, label) in enumerate(train_loader):\n",
        "  features = alexnet.features(img)\n",
        "  tensor = torch.from_numpy(features.detach().numpy())\n",
        "  torch.save(tensor.squeeze(0), \"{0}/{1}/{2}.tensor\".format(alex_train_path, classes[label], i))\n",
        "\n",
        "print(\"done with training set\")\n",
        "\n",
        "for i, (img, label) in enumerate(val_loader):\n",
        "  features = alexnet.features(img)\n",
        "  tensor = torch.from_numpy(features.detach().numpy())\n",
        "  torch.save(tensor.squeeze(0), \"{0}/{1}/{2}.tensor\".format(alex_val_path, classes[label], i))\n",
        "\n",
        "print(\"done with validation set\")\n",
        "\n",
        "for i, (img, label) in enumerate(test_loader):\n",
        "  features = alexnet.features(img)\n",
        "  tensor = torch.from_numpy(features.detach().numpy())\n",
        "  torch.save(tensor.squeeze(0), \"{0}/{1}/{2}.tensor\".format(alex_test_path, classes[label], i))\n",
        "\n",
        "print(\"done with testing set\")"
      ],
      "metadata": {
        "colab": {
          "base_uri": "https://localhost:8080/"
        },
        "id": "7J-CvBn3wg71",
        "outputId": "f0b752de-d716-42b9-f78e-749cd7e93074"
      },
      "execution_count": null,
      "outputs": [
        {
          "output_type": "stream",
          "name": "stdout",
          "text": [
            "done with testing set\n"
          ]
        }
      ]
    },
    {
      "cell_type": "code",
      "source": [
        "for i in dictionary.items():\n",
        "    print(i[0] + \" :\", end=\"\")\n",
        "    print(len([name for name in os.listdir('{}/{}'.format(alex_train_path, i[0]))]))"
      ],
      "metadata": {
        "colab": {
          "base_uri": "https://localhost:8080/"
        },
        "id": "cbFD8XWqAiZg",
        "outputId": "5647e3fc-4128-4841-e9fd-e9a8d9124e5e"
      },
      "execution_count": null,
      "outputs": [
        {
          "output_type": "stream",
          "name": "stdout",
          "text": [
            "RPG :699\n",
            "Strategy :700\n",
            "Shooter :700\n",
            "Puzzle :699\n",
            "Arcade :699\n",
            "Racing :700\n",
            "Sports :700\n",
            "Fighting :700\n",
            "Board Games :700\n",
            "Educational :700\n"
          ]
        }
      ]
    },
    {
      "cell_type": "code",
      "source": [
        "for i in dictionary.items():\n",
        "    print(i[0] + \" :\", end=\"\")\n",
        "    print(len([name for name in os.listdir('{}/{}'.format(alex_test_path, i[0]))]))"
      ],
      "metadata": {
        "colab": {
          "base_uri": "https://localhost:8080/"
        },
        "id": "qSjfCKurA8_g",
        "outputId": "8606caaa-6840-47f7-96e5-e1baf8998350"
      },
      "execution_count": null,
      "outputs": [
        {
          "output_type": "stream",
          "name": "stdout",
          "text": [
            "RPG :151\n",
            "Strategy :150\n",
            "Shooter :150\n",
            "Puzzle :151\n",
            "Arcade :151\n",
            "Racing :150\n",
            "Sports :150\n",
            "Fighting :150\n",
            "Board Games :150\n",
            "Educational :150\n"
          ]
        }
      ]
    },
    {
      "cell_type": "code",
      "source": [
        "for i in dictionary.items():\n",
        "    print(i[0] + \" :\", end=\"\")\n",
        "    print(len([name for name in os.listdir('{}/{}'.format(alex_val_path, i[0]))]))"
      ],
      "metadata": {
        "colab": {
          "base_uri": "https://localhost:8080/"
        },
        "id": "PayOe0TDA9mS",
        "outputId": "78fcb2dc-061f-46ff-aa62-b0a50acb57af"
      },
      "execution_count": null,
      "outputs": [
        {
          "output_type": "stream",
          "name": "stdout",
          "text": [
            "RPG :149\n",
            "Strategy :150\n",
            "Shooter :150\n",
            "Puzzle :149\n",
            "Arcade :149\n",
            "Racing :150\n",
            "Sports :150\n",
            "Fighting :150\n",
            "Board Games :150\n",
            "Educational :150\n"
          ]
        }
      ]
    }
  ]
}